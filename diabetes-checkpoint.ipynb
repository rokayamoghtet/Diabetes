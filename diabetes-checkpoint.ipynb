{
 "cells": [
  {
   "cell_type": "code",
   "execution_count": 1,
   "id": "020bd430",
   "metadata": {},
   "outputs": [],
   "source": [
    "import pandas as pd\n",
    "import numpy as np\n",
    "import seaborn as sns\n",
    "import matplotlib.pyplot as plt"
   ]
  },
  {
   "cell_type": "code",
   "execution_count": 2,
   "id": "afad2c0d",
   "metadata": {},
   "outputs": [],
   "source": [
    "# Lire le fichier csv dans un dataframe pandas\n",
    "df = pd.read_excel('diabetes_data_upload 1.xlsx')"
   ]
  },
  {
   "cell_type": "code",
   "execution_count": 3,
   "id": "337e7171",
   "metadata": {},
   "outputs": [
    {
     "name": "stdout",
     "output_type": "stream",
     "text": [
      "0      False\n",
      "1      False\n",
      "2      False\n",
      "3      False\n",
      "4      False\n",
      "       ...  \n",
      "515    False\n",
      "516    False\n",
      "517    False\n",
      "518    False\n",
      "519    False\n",
      "Name: Polyphagia, Length: 520, dtype: bool\n",
      "   Age Gender Polyuria  fakecolumn Polydipsia sudden weight loss weakness  \\\n",
      "0   40   Male       No         1.0        Yes                 No      Yes   \n",
      "1   58   Male       No         1.0         No                 No      Yes   \n",
      "2   41   Male      Yes         1.0         No                 No      Yes   \n",
      "3   45  homme       No         1.0         No                Yes      Yes   \n",
      "4   60   Male      Yes         1.0        Yes                Yes      Yes   \n",
      "\n",
      "  Polyphagia Genital thrush visual blurring Itching Irritability  \\\n",
      "0         No             No              No     Yes           No   \n",
      "1         No             No             Yes      No           No   \n",
      "2        Yes             No              No     Yes           No   \n",
      "3        Yes            Yes              No     Yes           No   \n",
      "4        Yes             No             Yes     Yes          Yes   \n",
      "\n",
      "  delayed healing partial paresis muscle stiffness Alopecia Obesity     class  \n",
      "0             Yes              No              Yes      Yes     Yes  Positive  \n",
      "1              No             Yes               No      Yes      No  Positive  \n",
      "2             Yes              No              Yes      Yes      No  Positive  \n",
      "3             Yes              No               No       No      No  Positive  \n",
      "4             Yes             Yes              Yes      Yes     Yes  Positive  \n"
     ]
    }
   ],
   "source": [
    "# Faire une liste de types de valeurs manquantes\n",
    "missing_values = [\"na\"]\n",
    "df = pd.read_excel(\"diabetes_data_upload 1.xlsx\", na_values = missing_values)\n",
    "print(df['Polyphagia'].isnull())\n",
    "print(df.head())"
   ]
  },
  {
   "cell_type": "code",
   "execution_count": 4,
   "id": "44f0996b",
   "metadata": {},
   "outputs": [
    {
     "name": "stdout",
     "output_type": "stream",
     "text": [
      "0      False\n",
      "1      False\n",
      "2      False\n",
      "3      False\n",
      "4      False\n",
      "       ...  \n",
      "515    False\n",
      "516    False\n",
      "517    False\n",
      "518    False\n",
      "519    False\n",
      "Name: Genital thrush, Length: 520, dtype: bool\n"
     ]
    }
   ],
   "source": [
    "# Faire une liste de types de valeurs manquantes\n",
    "missing_values = [\"Nan\"]\n",
    "df = pd.read_excel(\"diabetes_data_upload 1.xlsx\", na_values = missing_values)\n",
    "print(df['Genital thrush'].isnull())"
   ]
  },
  {
   "cell_type": "code",
   "execution_count": 5,
   "id": "0f01db03",
   "metadata": {},
   "outputs": [
    {
     "name": "stdout",
     "output_type": "stream",
     "text": [
      "0      False\n",
      "1      False\n",
      "2      False\n",
      "3      False\n",
      "4      False\n",
      "       ...  \n",
      "515    False\n",
      "516    False\n",
      "517    False\n",
      "518    False\n",
      "519    False\n",
      "Name: delayed healing, Length: 520, dtype: bool\n"
     ]
    }
   ],
   "source": [
    "# Faire une liste de types de valeurs manquantes\n",
    "missing_values = [\"Null\"]\n",
    "df = pd.read_excel(\"diabetes_data_upload 1.xlsx\", na_values = missing_values)\n",
    "print(df['delayed healing'].isnull())"
   ]
  },
  {
   "cell_type": "code",
   "execution_count": 6,
   "id": "8e84b0c3",
   "metadata": {},
   "outputs": [
    {
     "name": "stdout",
     "output_type": "stream",
     "text": [
      "   Age Gender Polyuria Polydipsia sudden weight loss weakness Polyphagia  \\\n",
      "0   40   Male       No        Yes                 No      Yes         No   \n",
      "1   58   Male       No         No                 No      Yes         No   \n",
      "2   41   Male      Yes         No                 No      Yes        Yes   \n",
      "3   45  homme       No         No                Yes      Yes        Yes   \n",
      "4   60   Male      Yes        Yes                Yes      Yes        Yes   \n",
      "\n",
      "  Genital thrush visual blurring Itching Irritability delayed healing  \\\n",
      "0             No              No     Yes           No             Yes   \n",
      "1             No             Yes      No           No              No   \n",
      "2             No              No     Yes           No             Yes   \n",
      "3            Yes              No     Yes           No             Yes   \n",
      "4             No             Yes     Yes          Yes             Yes   \n",
      "\n",
      "  partial paresis muscle stiffness Alopecia Obesity     class  \n",
      "0              No              Yes      Yes     Yes  Positive  \n",
      "1             Yes               No      Yes      No  Positive  \n",
      "2              No              Yes      Yes      No  Positive  \n",
      "3              No               No       No      No  Positive  \n",
      "4             Yes              Yes      Yes     Yes  Positive  \n"
     ]
    }
   ],
   "source": [
    "from pandas import DataFrame\n",
    "del df['fakecolumn']\n",
    "print(df.head())"
   ]
  },
  {
   "cell_type": "code",
   "execution_count": 10,
   "id": "4e418ad1",
   "metadata": {},
   "outputs": [],
   "source": [
    "df['Gender']=df['Gender'].replace('homme','Male')"
   ]
  },
  {
   "cell_type": "code",
   "execution_count": 11,
   "id": "53c23d7f",
   "metadata": {},
   "outputs": [
    {
     "name": "stdout",
     "output_type": "stream",
     "text": [
      "     Age  Gender Polyuria Polydipsia sudden weight loss weakness Polyphagia  \\\n",
      "0     40    Male       No        Yes                 No      Yes         No   \n",
      "1     58    Male       No         No                 No      Yes         No   \n",
      "2     41    Male      Yes         No                 No      Yes        Yes   \n",
      "3     45    Male       No         No                Yes      Yes        Yes   \n",
      "4     60    Male      Yes        Yes                Yes      Yes        Yes   \n",
      "..   ...     ...      ...        ...                ...      ...        ...   \n",
      "515   39  Female      Yes        Yes                Yes       No        Yes   \n",
      "516   48  Female      Yes        Yes                Yes      Yes        Yes   \n",
      "517   58  Female      Yes        Yes                Yes      Yes        Yes   \n",
      "518   32  Female       No         No                 No      Yes         No   \n",
      "519   42    Male       No         No                 No       No         No   \n",
      "\n",
      "    Genital thrush visual blurring Itching Irritability delayed healing  \\\n",
      "0               No              No     Yes           No             Yes   \n",
      "1               No             Yes      No           No              No   \n",
      "2               No              No     Yes           No             Yes   \n",
      "3              Yes              No     Yes           No             Yes   \n",
      "4               No             Yes     Yes          Yes             Yes   \n",
      "..             ...             ...     ...          ...             ...   \n",
      "515             No              No     Yes           No             Yes   \n",
      "516             No              No     Yes          Yes             Yes   \n",
      "517             No             Yes      No           No              No   \n",
      "518             No             Yes     Yes           No             Yes   \n",
      "519             No              No      No           No              No   \n",
      "\n",
      "    partial paresis muscle stiffness Alopecia Obesity     class  \n",
      "0                No              Yes      Yes     Yes  Positive  \n",
      "1               Yes               No      Yes      No  Positive  \n",
      "2                No              Yes      Yes      No  Positive  \n",
      "3                No               No       No      No  Positive  \n",
      "4               Yes              Yes      Yes     Yes  Positive  \n",
      "..              ...              ...      ...     ...       ...  \n",
      "515             Yes               No       No      No  Positive  \n",
      "516             Yes               No       No      No  Positive  \n",
      "517             Yes              Yes       No     Yes  Positive  \n",
      "518              No               No      Yes      No  Negative  \n",
      "519              No               No       No      No  Negative  \n",
      "\n",
      "[520 rows x 17 columns]\n"
     ]
    }
   ],
   "source": [
    "print(df)"
   ]
  },
  {
   "cell_type": "code",
   "execution_count": 12,
   "id": "73a4abec",
   "metadata": {},
   "outputs": [],
   "source": [
    "df['Gender']=df['Gender'].replace('femme','Female')"
   ]
  },
  {
   "cell_type": "code",
   "execution_count": 13,
   "id": "57ec2eed",
   "metadata": {},
   "outputs": [
    {
     "name": "stdout",
     "output_type": "stream",
     "text": [
      "     Age  Gender Polyuria Polydipsia sudden weight loss weakness Polyphagia  \\\n",
      "0     40    Male       No        Yes                 No      Yes         No   \n",
      "1     58    Male       No         No                 No      Yes         No   \n",
      "2     41    Male      Yes         No                 No      Yes        Yes   \n",
      "3     45    Male       No         No                Yes      Yes        Yes   \n",
      "4     60    Male      Yes        Yes                Yes      Yes        Yes   \n",
      "..   ...     ...      ...        ...                ...      ...        ...   \n",
      "515   39  Female      Yes        Yes                Yes       No        Yes   \n",
      "516   48  Female      Yes        Yes                Yes      Yes        Yes   \n",
      "517   58  Female      Yes        Yes                Yes      Yes        Yes   \n",
      "518   32  Female       No         No                 No      Yes         No   \n",
      "519   42    Male       No         No                 No       No         No   \n",
      "\n",
      "    Genital thrush visual blurring Itching Irritability delayed healing  \\\n",
      "0               No              No     Yes           No             Yes   \n",
      "1               No             Yes      No           No              No   \n",
      "2               No              No     Yes           No             Yes   \n",
      "3              Yes              No     Yes           No             Yes   \n",
      "4               No             Yes     Yes          Yes             Yes   \n",
      "..             ...             ...     ...          ...             ...   \n",
      "515             No              No     Yes           No             Yes   \n",
      "516             No              No     Yes          Yes             Yes   \n",
      "517             No             Yes      No           No              No   \n",
      "518             No             Yes     Yes           No             Yes   \n",
      "519             No              No      No           No              No   \n",
      "\n",
      "    partial paresis muscle stiffness Alopecia Obesity     class  \n",
      "0                No              Yes      Yes     Yes  Positive  \n",
      "1               Yes               No      Yes      No  Positive  \n",
      "2                No              Yes      Yes      No  Positive  \n",
      "3                No               No       No      No  Positive  \n",
      "4               Yes              Yes      Yes     Yes  Positive  \n",
      "..              ...              ...      ...     ...       ...  \n",
      "515             Yes               No       No      No  Positive  \n",
      "516             Yes               No       No      No  Positive  \n",
      "517             Yes              Yes       No     Yes  Positive  \n",
      "518              No               No      Yes      No  Negative  \n",
      "519              No               No       No      No  Negative  \n",
      "\n",
      "[520 rows x 17 columns]\n"
     ]
    }
   ],
   "source": [
    "print(df)"
   ]
  },
  {
   "cell_type": "code",
   "execution_count": 15,
   "id": "52bb515c",
   "metadata": {},
   "outputs": [],
   "source": [
    "df['Polyuria']=df['Polyuria'].replace('oui','yes')"
   ]
  },
  {
   "cell_type": "code",
   "execution_count": 16,
   "id": "f64fc913",
   "metadata": {},
   "outputs": [],
   "source": [
    "df['weakness']=df['weakness'].replace('oui','yes')"
   ]
  },
  {
   "cell_type": "code",
   "execution_count": 17,
   "id": "1844afef",
   "metadata": {},
   "outputs": [],
   "source": [
    " df[ 'partial paresis']=df[ 'partial paresis'].replace('oui','yes')"
   ]
  },
  {
   "cell_type": "code",
   "execution_count": 18,
   "id": "ffe2cc30",
   "metadata": {},
   "outputs": [
    {
     "name": "stdout",
     "output_type": "stream",
     "text": [
      "     Age  Gender Polyuria Polydipsia sudden weight loss weakness Polyphagia  \\\n",
      "0     40    Male       No        Yes                 No      Yes         No   \n",
      "1     58    Male       No         No                 No      Yes         No   \n",
      "2     41    Male      Yes         No                 No      Yes        Yes   \n",
      "3     45    Male       No         No                Yes      Yes        Yes   \n",
      "4     60    Male      Yes        Yes                Yes      Yes        Yes   \n",
      "..   ...     ...      ...        ...                ...      ...        ...   \n",
      "515   39  Female      Yes        Yes                Yes       No        Yes   \n",
      "516   48  Female      Yes        Yes                Yes      Yes        Yes   \n",
      "517   58  Female      Yes        Yes                Yes      Yes        Yes   \n",
      "518   32  Female       No         No                 No      Yes         No   \n",
      "519   42    Male       No         No                 No       No         No   \n",
      "\n",
      "    Genital thrush visual blurring Itching Irritability delayed healing  \\\n",
      "0               No              No     Yes           No             Yes   \n",
      "1               No             Yes      No           No              No   \n",
      "2               No              No     Yes           No             Yes   \n",
      "3              Yes              No     Yes           No             Yes   \n",
      "4               No             Yes     Yes          Yes             Yes   \n",
      "..             ...             ...     ...          ...             ...   \n",
      "515             No              No     Yes           No             Yes   \n",
      "516             No              No     Yes          Yes             Yes   \n",
      "517             No             Yes      No           No              No   \n",
      "518             No             Yes     Yes           No             Yes   \n",
      "519             No              No      No           No              No   \n",
      "\n",
      "    partial paresis muscle stiffness Alopecia Obesity     class  \n",
      "0                No              Yes      Yes     Yes  Positive  \n",
      "1               Yes               No      Yes      No  Positive  \n",
      "2                No              Yes      Yes      No  Positive  \n",
      "3                No               No       No      No  Positive  \n",
      "4               Yes              Yes      Yes     Yes  Positive  \n",
      "..              ...              ...      ...     ...       ...  \n",
      "515             Yes               No       No      No  Positive  \n",
      "516             Yes               No       No      No  Positive  \n",
      "517             Yes              Yes       No     Yes  Positive  \n",
      "518              No               No      Yes      No  Negative  \n",
      "519              No               No       No      No  Negative  \n",
      "\n",
      "[520 rows x 17 columns]\n"
     ]
    }
   ],
   "source": [
    "print(df)"
   ]
  },
  {
   "cell_type": "code",
   "execution_count": 19,
   "id": "139da380",
   "metadata": {},
   "outputs": [],
   "source": [
    " df[ 'visual blurring']=df[ 'visual blurring'].replace('ozjdzjod','No')"
   ]
  },
  {
   "cell_type": "code",
   "execution_count": 20,
   "id": "e103d93e",
   "metadata": {},
   "outputs": [
    {
     "name": "stdout",
     "output_type": "stream",
     "text": [
      "     Age  Gender Polyuria Polydipsia sudden weight loss weakness Polyphagia  \\\n",
      "0     40    Male       No        Yes                 No      Yes         No   \n",
      "1     58    Male       No         No                 No      Yes         No   \n",
      "2     41    Male      Yes         No                 No      Yes        Yes   \n",
      "3     45    Male       No         No                Yes      Yes        Yes   \n",
      "4     60    Male      Yes        Yes                Yes      Yes        Yes   \n",
      "..   ...     ...      ...        ...                ...      ...        ...   \n",
      "515   39  Female      Yes        Yes                Yes       No        Yes   \n",
      "516   48  Female      Yes        Yes                Yes      Yes        Yes   \n",
      "517   58  Female      Yes        Yes                Yes      Yes        Yes   \n",
      "518   32  Female       No         No                 No      Yes         No   \n",
      "519   42    Male       No         No                 No       No         No   \n",
      "\n",
      "    Genital thrush visual blurring Itching Irritability delayed healing  \\\n",
      "0               No              No     Yes           No             Yes   \n",
      "1               No             Yes      No           No              No   \n",
      "2               No              No     Yes           No             Yes   \n",
      "3              Yes              No     Yes           No             Yes   \n",
      "4               No             Yes     Yes          Yes             Yes   \n",
      "..             ...             ...     ...          ...             ...   \n",
      "515             No              No     Yes           No             Yes   \n",
      "516             No              No     Yes          Yes             Yes   \n",
      "517             No             Yes      No           No              No   \n",
      "518             No             Yes     Yes           No             Yes   \n",
      "519             No              No      No           No              No   \n",
      "\n",
      "    partial paresis muscle stiffness Alopecia Obesity     class  \n",
      "0                No              Yes      Yes     Yes  Positive  \n",
      "1               Yes               No      Yes      No  Positive  \n",
      "2                No              Yes      Yes      No  Positive  \n",
      "3                No               No       No      No  Positive  \n",
      "4               Yes              Yes      Yes     Yes  Positive  \n",
      "..              ...              ...      ...     ...       ...  \n",
      "515             Yes               No       No      No  Positive  \n",
      "516             Yes               No       No      No  Positive  \n",
      "517             Yes              Yes       No     Yes  Positive  \n",
      "518              No               No      Yes      No  Negative  \n",
      "519              No               No       No      No  Negative  \n",
      "\n",
      "[520 rows x 17 columns]\n"
     ]
    }
   ],
   "source": [
    "print(df)"
   ]
  },
  {
   "cell_type": "code",
   "execution_count": 22,
   "id": "aa84a4c3",
   "metadata": {},
   "outputs": [],
   "source": [
    " df['Obesity']=df['Obesity'].replace('1','Yes')"
   ]
  },
  {
   "cell_type": "code",
   "execution_count": 23,
   "id": "e149fb92",
   "metadata": {},
   "outputs": [],
   "source": [
    "df['Obesity']=df['Obesity'].replace('0','No')"
   ]
  },
  {
   "cell_type": "code",
   "execution_count": 24,
   "id": "62d4c7d2",
   "metadata": {},
   "outputs": [
    {
     "name": "stdout",
     "output_type": "stream",
     "text": [
      "     Age  Gender Polyuria Polydipsia sudden weight loss weakness Polyphagia  \\\n",
      "0     40    Male       No        Yes                 No      Yes         No   \n",
      "1     58    Male       No         No                 No      Yes         No   \n",
      "2     41    Male      Yes         No                 No      Yes        Yes   \n",
      "3     45    Male       No         No                Yes      Yes        Yes   \n",
      "4     60    Male      Yes        Yes                Yes      Yes        Yes   \n",
      "..   ...     ...      ...        ...                ...      ...        ...   \n",
      "515   39  Female      Yes        Yes                Yes       No        Yes   \n",
      "516   48  Female      Yes        Yes                Yes      Yes        Yes   \n",
      "517   58  Female      Yes        Yes                Yes      Yes        Yes   \n",
      "518   32  Female       No         No                 No      Yes         No   \n",
      "519   42    Male       No         No                 No       No         No   \n",
      "\n",
      "    Genital thrush visual blurring Itching Irritability delayed healing  \\\n",
      "0               No              No     Yes           No             Yes   \n",
      "1               No             Yes      No           No              No   \n",
      "2               No              No     Yes           No             Yes   \n",
      "3              Yes              No     Yes           No             Yes   \n",
      "4               No             Yes     Yes          Yes             Yes   \n",
      "..             ...             ...     ...          ...             ...   \n",
      "515             No              No     Yes           No             Yes   \n",
      "516             No              No     Yes          Yes             Yes   \n",
      "517             No             Yes      No           No              No   \n",
      "518             No             Yes     Yes           No             Yes   \n",
      "519             No              No      No           No              No   \n",
      "\n",
      "    partial paresis muscle stiffness Alopecia Obesity     class  \n",
      "0                No              Yes      Yes     Yes  Positive  \n",
      "1               Yes               No      Yes      No  Positive  \n",
      "2                No              Yes      Yes      No  Positive  \n",
      "3                No               No       No      No  Positive  \n",
      "4               Yes              Yes      Yes     Yes  Positive  \n",
      "..              ...              ...      ...     ...       ...  \n",
      "515             Yes               No       No      No  Positive  \n",
      "516             Yes               No       No      No  Positive  \n",
      "517             Yes              Yes       No     Yes  Positive  \n",
      "518              No               No      Yes      No  Negative  \n",
      "519              No               No       No      No  Negative  \n",
      "\n",
      "[520 rows x 17 columns]\n"
     ]
    }
   ],
   "source": [
    "print(df)"
   ]
  },
  {
   "cell_type": "code",
   "execution_count": null,
   "id": "efe15370",
   "metadata": {},
   "outputs": [],
   "source": []
  }
 ],
 "metadata": {
  "kernelspec": {
   "display_name": "Python 3 (ipykernel)",
   "language": "python",
   "name": "python3"
  },
  "language_info": {
   "codemirror_mode": {
    "name": "ipython",
    "version": 3
   },
   "file_extension": ".py",
   "mimetype": "text/x-python",
   "name": "python",
   "nbconvert_exporter": "python",
   "pygments_lexer": "ipython3",
   "version": "3.9.7"
  }
 },
 "nbformat": 4,
 "nbformat_minor": 5
}
